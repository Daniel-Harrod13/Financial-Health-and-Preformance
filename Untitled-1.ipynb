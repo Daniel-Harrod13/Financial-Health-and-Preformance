{
 "cells": [
  {
   "cell_type": "code",
   "execution_count": null,
   "metadata": {},
   "outputs": [],
   "source": [
    "# Import required libraries\n",
    "import numpy as np\n",
    "import pandas as pd\n"
   ]
  },
  {
   "cell_type": "code",
   "execution_count": null,
   "metadata": {},
   "outputs": [],
   "source": [
    "# Load the data for the company\n",
    "data = pd.read_csv(\"company_data.csv\")"
   ]
  },
  {
   "cell_type": "code",
   "execution_count": null,
   "metadata": {},
   "outputs": [],
   "source": [
    "# Calculate key financial metrics\n",
    "revenue = data[\"revenue\"].mean()\n",
    "expenses = data[\"expenses\"].mean()\n",
    "profit = revenue - expenses"
   ]
  },
  {
   "cell_type": "code",
   "execution_count": null,
   "metadata": {},
   "outputs": [],
   "source": [
    "# Evaluate the company's financial health\n",
    "if profit > 0:\n",
    "    financial_health = \"healthy\"\n",
    "else:\n",
    "    financial_health = \"unhealthy\""
   ]
  },
  {
   "cell_type": "code",
   "execution_count": null,
   "metadata": {},
   "outputs": [],
   "source": [
    "# Evaluate the company's financial performance\n",
    "if profit > revenue * 0.1:\n",
    "    financial_performance = \"good\"\n",
    "elif profit > 0:\n",
    "    financial_performance = \"average\"\n",
    "else:\n",
    "    financial_performance = \"poor\""
   ]
  },
  {
   "cell_type": "code",
   "execution_count": null,
   "metadata": {},
   "outputs": [],
   "source": [
    "\n",
    "# Print the results\n",
    "print(\"Financial health:\", financial_health)\n",
    "print(\"Financial performance:\", financial_performance)"
   ]
  },
  {
   "cell_type": "code",
   "execution_count": null,
   "metadata": {},
   "outputs": [],
   "source": []
  },
  {
   "cell_type": "code",
   "execution_count": null,
   "metadata": {},
   "outputs": [],
   "source": []
  }
 ],
 "metadata": {
  "language_info": {
   "name": "python"
  },
  "orig_nbformat": 4
 },
 "nbformat": 4,
 "nbformat_minor": 2
}
